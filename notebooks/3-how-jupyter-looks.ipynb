{
 "cells": [
  {
   "cell_type": "markdown",
   "id": "0852af91-441a-4835-9cd7-2d40bfa2c0a4",
   "metadata": {},
   "source": [
    "## JupyterLab, Classic Notebook, simple view"
   ]
  },
  {
   "cell_type": "markdown",
   "id": "815de7c7-a4d7-4db4-b95f-ca7c42aed050",
   "metadata": {},
   "source": [
    "It's been [almost 8 years](https://blog.jupyter.org/jupyterlab-is-ready-for-users-5a6f039b8906) since JupyterLab was \"ready for users.\" We should all be using it now.\n",
    "\n",
    "However, popular old projects die slowly (ahem, Python 2...) and some extensions only work in the Classic Notebook mode. How do you get into it?\n",
    "\n",
    "1. In the Dockerfile, replace\n",
    "\n",
    "```Dockerfile\n",
    "CMD [\"jupyter\", \"lab\", \"--notebook-dir=./notebooks\", \"--ip=0.0.0.0\", \"--no-browser\", \"--allow-root\"]\n",
    "```\n",
    "\n",
    "with\n",
    "\n",
    "```Dockerfile\n",
    "CMD [\"jupyter\", \"notebook\", \"--notebook-dir=./notebooks\", \"--ip=0.0.0.0\", \"--no-browser\", \"--allow-root\"]\n",
    "```\n",
    "\n",
    "to start up in the Classic Notebook.\n",
    "\n",
    "2. Click on the \"Notebook\" button on the top-right if you've already started in JupyterLab.\n",
    "\n",
    "<img src=\"img/notebook-button.png\" style=\"width: 300px; max-width: 30%;\">"
   ]
  },
  {
   "cell_type": "markdown",
   "id": "dfbda5c5-0485-4896-b3ff-49362f684bb6",
   "metadata": {},
   "source": [
    "<br><br><br>"
   ]
  },
  {
   "cell_type": "markdown",
   "id": "fdc1a5e9-7da9-4680-b2b5-4de048d3c62b",
   "metadata": {},
   "source": [
    "Other ways to get an uncluttered view:\n",
    "\n",
    "1. The \"Simple\" button on the bottom-left turns on a mode without tabs.\n",
    "\n",
    "<img src=\"img/uncluttered-1.png\" style=\"width: 300px; max-width: 30%;\">\n",
    "\n",
    "2. Various side-toolbars can be turned off in the \"View\" menu.\n",
    "\n",
    "<img src=\"img/uncluttered-2.png\" style=\"width: 750px; max-width: 75%;\">"
   ]
  },
  {
   "cell_type": "markdown",
   "id": "d4c42daf-9370-4c50-a025-d81adbcd8792",
   "metadata": {},
   "source": [
    "<br><br><br>"
   ]
  },
  {
   "cell_type": "markdown",
   "id": "10c9ef96-436a-4008-a562-e6b420f35d81",
   "metadata": {},
   "source": [
    "## Font size"
   ]
  },
  {
   "cell_type": "code",
   "execution_count": 1,
   "id": "3abe0e95-4f2e-4f43-9980-90dfdb40dd8f",
   "metadata": {},
   "outputs": [
    {
     "name": "stdout",
     "output_type": "stream",
     "text": [
      "hi there!\n"
     ]
    }
   ],
   "source": [
    "print(\"hi there!\")"
   ]
  },
  {
   "cell_type": "markdown",
   "id": "e368426e-910c-4fab-b789-728255fc30e7",
   "metadata": {},
   "source": [
    "hi there!\n",
    "\n",
    "```python\n",
    "print(\"hi there!\")\n",
    "```"
   ]
  }
 ],
 "metadata": {
  "kernelspec": {
   "display_name": "Python 3 (ipykernel)",
   "language": "python",
   "name": "python3"
  },
  "language_info": {
   "codemirror_mode": {
    "name": "ipython",
    "version": 3
   },
   "file_extension": ".py",
   "mimetype": "text/x-python",
   "name": "python",
   "nbconvert_exporter": "python",
   "pygments_lexer": "ipython3",
   "version": "3.12.11"
  }
 },
 "nbformat": 4,
 "nbformat_minor": 5
}
