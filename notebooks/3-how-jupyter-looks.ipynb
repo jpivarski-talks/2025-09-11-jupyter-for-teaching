{
 "cells": [
  {
   "cell_type": "markdown",
   "id": "0852af91-441a-4835-9cd7-2d40bfa2c0a4",
   "metadata": {},
   "source": [
    "## JupyterLab, Classic Notebook, simple view"
   ]
  },
  {
   "cell_type": "markdown",
   "id": "815de7c7-a4d7-4db4-b95f-ca7c42aed050",
   "metadata": {},
   "source": [
    "It's been [almost 8 years](https://blog.jupyter.org/jupyterlab-is-ready-for-users-5a6f039b8906) since JupyterLab was \"ready for users.\" We should all be using it now.\n",
    "\n",
    "However, popular old projects die slowly (ahem, Python 2...) and some extensions only work in the Classic Notebook mode. How do you get into it?\n",
    "\n",
    "1. In the Dockerfile, replace\n",
    "\n",
    "```Dockerfile\n",
    "CMD [\"jupyter\", \"lab\", \"--notebook-dir=./notebooks\", \"--ip=0.0.0.0\", \"--no-browser\", \"--allow-root\"]\n",
    "```\n",
    "\n",
    "with\n",
    "\n",
    "```Dockerfile\n",
    "CMD [\"jupyter\", \"notebook\", \"--notebook-dir=./notebooks\", \"--ip=0.0.0.0\", \"--no-browser\", \"--allow-root\"]\n",
    "```\n",
    "\n",
    "to start up in the Classic Notebook.\n",
    "\n",
    "2. Click on the \"Notebook\" button on the top-right if you've already started in JupyterLab.\n",
    "\n",
    "<img src=\"img/notebook-button.png\" style=\"width: 300px; max-width: 30%;\">"
   ]
  },
  {
   "cell_type": "markdown",
   "id": "dfbda5c5-0485-4896-b3ff-49362f684bb6",
   "metadata": {},
   "source": [
    "<br><br><br>"
   ]
  },
  {
   "cell_type": "markdown",
   "id": "fdc1a5e9-7da9-4680-b2b5-4de048d3c62b",
   "metadata": {},
   "source": [
    "Other ways to get an uncluttered view:\n",
    "\n",
    "1. The \"Simple\" button on the bottom-left turns on a mode without tabs.\n",
    "\n",
    "<img src=\"img/uncluttered-1.png\" style=\"width: 300px; max-width: 30%;\">\n",
    "\n",
    "2. Various side-toolbars can be turned off in the \"View\" menu.\n",
    "\n",
    "<img src=\"img/uncluttered-2.png\" style=\"width: 750px; max-width: 75%;\">"
   ]
  },
  {
   "cell_type": "markdown",
   "id": "d4c42daf-9370-4c50-a025-d81adbcd8792",
   "metadata": {},
   "source": [
    "<br><br><br>"
   ]
  },
  {
   "cell_type": "markdown",
   "id": "10c9ef96-436a-4008-a562-e6b420f35d81",
   "metadata": {},
   "source": [
    "## \"It's too small!\""
   ]
  },
  {
   "cell_type": "markdown",
   "id": "fd2e51d1-3422-4bb4-a9f3-dce5409009f7",
   "metadata": {},
   "source": [
    "The standard font size is okay for personal use or reading as a book, but not for presenting to a whole class.\n",
    "\n",
    "Jupyter has a \"Presentation Mode\" that increases the font size a little, but not nearly enough.\n",
    "\n",
    "<img src=\"img/presentation-mode.png\" style=\"width: 750px; max-width: 75%;\">"
   ]
  },
  {
   "cell_type": "markdown",
   "id": "570d6e8d-74d5-4ab3-a26b-f4c8a9fc4fa8",
   "metadata": {},
   "source": [
    "<br><br><br>"
   ]
  },
  {
   "cell_type": "markdown",
   "id": "47c5233a-3f66-4ca6-b773-a170a2c7f6bc",
   "metadata": {},
   "source": [
    "I usually just change the web browser zoom, `⌘+` and `⌘-` on Mac. But that makes everything bigger, and the sidebar-stuff crowds out the content.\n",
    "\n",
    "<img src=\"img/resize-browser.png\" style=\"width: 1000px; max-width: 100%;\">"
   ]
  },
  {
   "cell_type": "markdown",
   "id": "ac86b7d5-96cd-416b-ab4f-081590cf0a3a",
   "metadata": {},
   "source": [
    "<br><br><br>"
   ]
  },
  {
   "cell_type": "markdown",
   "id": "abb37b8f-5946-4494-a06e-4c825fd71b53",
   "metadata": {},
   "source": [
    "You can go into the settings and change the `code-font-size` (code cells) and `content-font-size1` (markdown cells):\n",
    "\n",
    "<img src=\"img/settings.png\" style=\"width: 1000px; max-width: 100%;\">\n",
    "\n",
    "but **it's not permanent**. It only changes the settings inside the Docker container, which gets thrown away and refreshed every time you launch the container."
   ]
  },
  {
   "cell_type": "markdown",
   "id": "3bc50ebd-64d5-4595-bf30-be63be443df0",
   "metadata": {},
   "source": [
    "<br><br><br>"
   ]
  },
  {
   "cell_type": "markdown",
   "id": "735e5a95-84d5-4027-8227-bf42223214bf",
   "metadata": {},
   "source": [
    "**Solution:** put the settings in a file that gets copied into the Docker container.\n",
    "\n",
    "* settings/themes.jupyterlab-settings\n",
    "\n",
    "```json\n",
    "{\n",
    "    \"overrides\": {\n",
    "        \"code-font-size\": \"13px\",\n",
    "        \"content-font-size1\": \"14px\"\n",
    "    }\n",
    "}\n",
    "```\n",
    "\n",
    "* Dockerfile\n",
    "\n",
    "```Dockerfile\n",
    "RUN mkdir -p /root/.jupyter/lab/user-settings/@jupyterlab/apputils-extension\n",
    "COPY settings/* /root/.jupyter/lab/user-settings/@jupyterlab/apputils-extension\n",
    "```"
   ]
  },
  {
   "cell_type": "markdown",
   "id": "86f6b1ad-7360-49e5-bfd4-a774ca060762",
   "metadata": {},
   "source": [
    "<br><br><br>"
   ]
  },
  {
   "cell_type": "markdown",
   "id": "705c3b44-93c5-4046-ac2c-5ecf19cc1337",
   "metadata": {},
   "source": [
    "### Sample content to check font sizes"
   ]
  },
  {
   "cell_type": "markdown",
   "id": "bf0d399a-51af-418e-881f-b075a895b95d",
   "metadata": {},
   "source": [
    "This is markdown text.\n",
    "\n",
    "With inline math: $f(x) = x^2$.\n",
    "\n",
    "Centered math:\n",
    "\n",
    "$$ \\sigma(x)_i = \\frac{\\exp(x_i)}{\\displaystyle \\sum_{j=1}^N \\exp(x_j)} $$\n",
    "\n",
    "A table:\n",
    "\n",
    "| and | a | table |\n",
    "|:--|:--:|--:|\n",
    "| left aligned | centered | right aligned |\n",
    "| the | second | row |\n",
    "| yet | another | row |\n",
    "| one | more | row |"
   ]
  },
  {
   "cell_type": "code",
   "execution_count": null,
   "id": "b03dfe58-e517-4369-a960-cdd5fb248503",
   "metadata": {},
   "outputs": [],
   "source": [
    "# code that you can execute\n",
    "\n",
    "for i in range(10):\n",
    "    print(f\"{i}...\", end=\" \")\n",
    "print(\"blastoff!\")"
   ]
  },
  {
   "cell_type": "markdown",
   "id": "1e671942-7dab-4a03-893a-f36d3a295911",
   "metadata": {},
   "source": [
    "<br><br><br>"
   ]
  },
  {
   "cell_type": "markdown",
   "id": "d49bc954-7b4a-498e-9d7a-728eec3faf2c",
   "metadata": {},
   "source": [
    "Markdown again.\n",
    "\n",
    "```python\n",
    "# code that you can't execute\n",
    "\n",
    "for i in range(10):\n",
    "    print(f\"{i}...\", end=\" \")\n",
    "print(\"blastoff!\")\n",
    "```"
   ]
  },
  {
   "cell_type": "markdown",
   "id": "c4cc6b9c-b863-47b2-9771-d5200f7f62b0",
   "metadata": {},
   "source": [
    "<br><br><br>"
   ]
  },
  {
   "cell_type": "code",
   "execution_count": null,
   "id": "51e7ad43-002a-4987-a646-26c2dfa606e6",
   "metadata": {},
   "outputs": [],
   "source": [
    "%%html\n",
    "\n",
    "<div style=\"font-size: 32px; margin: 100px;\">This is custom HTML with a fixed size of 32px.</div>"
   ]
  }
 ],
 "metadata": {
  "kernelspec": {
   "display_name": "Python 3 (ipykernel)",
   "language": "python",
   "name": "python3"
  },
  "language_info": {
   "codemirror_mode": {
    "name": "ipython",
    "version": 3
   },
   "file_extension": ".py",
   "mimetype": "text/x-python",
   "name": "python",
   "nbconvert_exporter": "python",
   "pygments_lexer": "ipython3",
   "version": "3.12.11"
  }
 },
 "nbformat": 4,
 "nbformat_minor": 5
}
