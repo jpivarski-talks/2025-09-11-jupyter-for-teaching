{
 "cells": [
  {
   "cell_type": "markdown",
   "id": "2912d802-44bf-4005-88b7-c2100db5e0b1",
   "metadata": {
    "editable": true,
    "slideshow": {
     "slide_type": "slide"
    },
    "tags": []
   },
   "source": [
    "## Scrolling too fast!"
   ]
  },
  {
   "cell_type": "code",
   "execution_count": null,
   "id": "c7cdded7-f6d8-43e0-a822-ed76c3c32758",
   "metadata": {
    "editable": true,
    "slideshow": {
     "slide_type": "slide"
    },
    "tags": []
   },
   "outputs": [],
   "source": [
    "import IPython.display\n",
    "\n",
    "IPython.display.YouTubeVideo(\"m-qPvGlJ7t8\", start=25, width=560, height=315)"
   ]
  },
  {
   "cell_type": "markdown",
   "id": "4c663c7d-7795-48b0-8d42-b2bcc3da3172",
   "metadata": {
    "editable": true,
    "slideshow": {
     "slide_type": "skip"
    },
    "tags": []
   },
   "source": [
    "<br><br><br>"
   ]
  },
  {
   "cell_type": "markdown",
   "id": "fed0a405-b35b-4183-b661-5968763a73a1",
   "metadata": {
    "editable": true,
    "slideshow": {
     "slide_type": "slide"
    },
    "tags": []
   },
   "source": [
    "Two fundamental problems:\n",
    "* Jupyter is a vertically scrolling document with freedom to move continuously.\n",
    "* Your audience is disconnected from your hand-eye coordination."
   ]
  },
  {
   "cell_type": "markdown",
   "id": "6073d2f3-715f-48c9-b224-f78ada242348",
   "metadata": {
    "editable": true,
    "slideshow": {
     "slide_type": "skip"
    },
    "tags": []
   },
   "source": [
    "<br><br><br>"
   ]
  },
  {
   "cell_type": "markdown",
   "id": "ce76fffd-cd07-4775-ac1b-e33c6214ba72",
   "metadata": {
    "editable": true,
    "slideshow": {
     "slide_type": "slide"
    },
    "tags": []
   },
   "source": [
    "Slide presentations don't have these problems:\n",
    "* One slide is a unit of progression—each slide starts with the right content at the top.\n",
    "* The progression everyone sees is independent of how much your hand moves."
   ]
  },
  {
   "cell_type": "markdown",
   "id": "1a9a199d-e0f9-4c11-94f3-c1f16e79d54b",
   "metadata": {
    "editable": true,
    "slideshow": {
     "slide_type": "skip"
    },
    "tags": []
   },
   "source": [
    "<br><br><br>"
   ]
  },
  {
   "cell_type": "markdown",
   "id": "840f168b-fe61-4176-9767-99f8a7873b07",
   "metadata": {
    "editable": true,
    "slideshow": {
     "slide_type": "slide"
    },
    "tags": []
   },
   "source": [
    "How to do slides in Jupyter?\n",
    "* The original [RISE](https://rise.readthedocs.io/) only works in Classic Notebook.\n",
    "* A new [jupyterlab_rise](https://github.com/jupyterlab-contrib/rise?tab=readme-ov-file#readme) works in JupyterLab, but it's complicated and opens a lot of windows.\n",
    "* My favorite is [jupyterlab-deck](https://jupyterlab-deck.readthedocs.io/), but it's concerning that [it hasn't been updated in 2 years](https://github.com/deathbeds/jupyterlab-deck/commits/main/)."
   ]
  },
  {
   "cell_type": "markdown",
   "id": "67ecdff8-fae1-4e71-a112-82eb9b2601b6",
   "metadata": {
    "editable": true,
    "slideshow": {
     "slide_type": ""
    },
    "tags": []
   },
   "source": [
    "<br>"
   ]
  },
  {
   "cell_type": "markdown",
   "id": "aa1bb1e5-c0a4-4c78-9736-507c45ad21fb",
   "metadata": {
    "editable": true,
    "slideshow": {
     "slide_type": "fragment"
    },
    "tags": []
   },
   "source": [
    "`jupyterlab-deck` was included in the requirements.txt, so it's in the toolbar as a <img src=\"img/jupyterlab-deck-icon.svg\" style=\"height: 1.5em;\"> icon."
   ]
  },
  {
   "cell_type": "markdown",
   "id": "97ecd970-7564-4f7e-8bc0-e15b735b5a3a",
   "metadata": {
    "editable": true,
    "slideshow": {
     "slide_type": "skip"
    },
    "tags": []
   },
   "source": [
    "<br><br><br>"
   ]
  },
  {
   "cell_type": "markdown",
   "id": "5554770a-ff54-4979-8886-50be23173721",
   "metadata": {
    "editable": true,
    "slideshow": {
     "slide_type": "slide"
    },
    "tags": []
   },
   "source": [
    "How to navigate? I usually select a cell (not the text in the cell) and\n",
    "* press **J** to move to the next cell,\n",
    "* press **K** to move to the previous cell,\n",
    "* evaluate a cell with **control-enter** (and _not_ **shift-enter**!), and\n",
    "* try to avoid stepping to the next slide unintentionally."
   ]
  },
  {
   "cell_type": "markdown",
   "id": "d7b6ca12-815b-4eef-bf01-ad4a81d10672",
   "metadata": {
    "editable": true,
    "slideshow": {
     "slide_type": "skip"
    },
    "tags": []
   },
   "source": [
    "<br><br><br>"
   ]
  },
  {
   "cell_type": "markdown",
   "id": "2aa90dd1-ceee-4cec-8e4d-cb0b3b073d16",
   "metadata": {
    "editable": true,
    "slideshow": {
     "slide_type": "slide"
    },
    "tags": []
   },
   "source": [
    "What about that scrollbar that sometimes shows up? I don't think it's intended, but it can be fixed like this:"
   ]
  },
  {
   "cell_type": "code",
   "execution_count": null,
   "id": "e276de7b-7798-40cf-b0b0-09158763effd",
   "metadata": {
    "editable": true,
    "slideshow": {
     "slide_type": ""
    },
    "tags": []
   },
   "outputs": [],
   "source": [
    "%%html\n",
    "\n",
    "<style>\n",
    ".page-id-xx, html {\n",
    "    scrollbar-width: none; /* Firefox */\n",
    "}\n",
    "::-webkit-scrollbar {\n",
    "    width: 0px; /* Chrome & Edge */\n",
    "}\n",
    "</style>"
   ]
  },
  {
   "cell_type": "markdown",
   "id": "4115125b-ea55-4c45-acdb-a05a4cb2ac7b",
   "metadata": {
    "editable": true,
    "slideshow": {
     "slide_type": ""
    },
    "tags": []
   },
   "source": [
    "which gets rid of all scrollbars (outside of slides-mode, too)."
   ]
  },
  {
   "cell_type": "markdown",
   "id": "2a84f161-6eef-437a-b419-deda8fa51eac",
   "metadata": {
    "editable": true,
    "slideshow": {
     "slide_type": "skip"
    },
    "tags": []
   },
   "source": [
    "<br><br><br>"
   ]
  },
  {
   "cell_type": "markdown",
   "id": "4b3f9b28-b044-4448-a893-1028e5d1f424",
   "metadata": {
    "editable": true,
    "slideshow": {
     "slide_type": "slide"
    },
    "tags": []
   },
   "source": [
    "## Creating slides"
   ]
  },
  {
   "cell_type": "markdown",
   "id": "0684f665-d460-4692-a136-2d50424c170f",
   "metadata": {
    "editable": true,
    "slideshow": {
     "slide_type": "slide"
    },
    "tags": []
   },
   "source": [
    "You can have multiple cells on a slide (good!), which means that we have to tell Jupyter which cells go on which slide.\n",
    "\n",
    "This is implemented with cell metadata:\n",
    "\n",
    "<div style=\"width: 1000px; max-width: 100%;\">\n",
    "<img src=\"img/cell-metadata-1.png\" style=\"display: inline-block; width: 50%;\"><img src=\"img/cell-metadata-2.png\" style=\"display: inline-block; width: 50%;\">\n",
    "</div>"
   ]
  },
  {
   "cell_type": "markdown",
   "id": "803816de-cc88-4a1c-8fd9-9f20a0f44b59",
   "metadata": {
    "editable": true,
    "slideshow": {
     "slide_type": "skip"
    },
    "tags": []
   },
   "source": [
    "<br><br><br>"
   ]
  },
  {
   "cell_type": "markdown",
   "id": "9f2f4aa6-9649-44b4-a44a-a99d96368201",
   "metadata": {
    "editable": true,
    "slideshow": {
     "slide_type": "slide"
    },
    "tags": []
   },
   "source": [
    "Also works in editing mode (useful when writing slides):\n",
    "\n",
    "<img src=\"img/cell-metadata-3.png\" style=\"width: 1000px; max-width: 100%;\">"
   ]
  },
  {
   "cell_type": "markdown",
   "id": "fa57c41e-3bdd-4e57-9eb5-72ff7d2e70fd",
   "metadata": {
    "editable": true,
    "slideshow": {
     "slide_type": "skip"
    },
    "tags": []
   },
   "source": [
    "<br><br><br>"
   ]
  },
  {
   "cell_type": "markdown",
   "id": "38d87bce-97cb-425d-8b11-1ac026a503f7",
   "metadata": {
    "editable": true,
    "slideshow": {
     "slide_type": "slide"
    },
    "tags": []
   },
   "source": [
    "Cell slide types:\n",
    "* \"Slide\": this cell starts a new slide.\n",
    "* \"Sub-Slide\": this cell starts a new slide that you only get to by clicking <img src=\"img/button-down.svg\" style=\"height: 1.5em;\">, rather than <img src=\"img/button-right.svg\" style=\"height: 1.5em;\">. (See [the reveal.js documentation](https://revealjs.com/).)\n",
    "* \"Fragment\": this cell is revealed as you step forward through the cells.\n",
    "* \"Skip\": this cell is not shown.\n",
    "* \"Notes\": causes all subsequent cells to not be shown, probably unintentionally.\n",
    "* \"-\" (default): on the same slide as the previous cell.\n",
    "\n",
    "I only use \"Slide\", \"-\", \"Fragment\", and occasionally \"Skip\"."
   ]
  },
  {
   "cell_type": "markdown",
   "id": "21a5cbe2-ec5d-4e0d-9228-316990c388e3",
   "metadata": {
    "editable": true,
    "slideshow": {
     "slide_type": "skip"
    },
    "tags": []
   },
   "source": [
    "<br><br><br>"
   ]
  },
  {
   "cell_type": "markdown",
   "id": "f2e34252-e48e-45d5-b77c-1afdfc8e086c",
   "metadata": {
    "editable": true,
    "slideshow": {
     "slide_type": "slide"
    },
    "tags": []
   },
   "source": [
    "## Examples of cells with code"
   ]
  },
  {
   "cell_type": "markdown",
   "id": "54fbcb48-f05c-49cb-b1ef-9bfeea9ff63b",
   "metadata": {
    "editable": true,
    "slideshow": {
     "slide_type": "slide"
    },
    "tags": []
   },
   "source": [
    "Here's an explanation that goes before the code."
   ]
  },
  {
   "cell_type": "code",
   "execution_count": null,
   "id": "a27adbf4-1289-4ce7-bb1e-a03521c2ba99",
   "metadata": {
    "editable": true,
    "slideshow": {
     "slide_type": ""
    },
    "tags": []
   },
   "outputs": [],
   "source": [
    "# Here's the code.\n",
    "from math import sqrt\n",
    "\n",
    "def quadratic_formula(a, b, c, closer_to_zero=True):\n",
    "    discriminant = sqrt(b**2 - 4*a*c)\n",
    "    if closer_to_zero:\n",
    "        return (-b - discriminant) / (2*a)\n",
    "    else:\n",
    "        return (-b + discriminant) / (2*a)"
   ]
  },
  {
   "cell_type": "markdown",
   "id": "cced02af-6edd-4465-8bf3-0a6956e6edd9",
   "metadata": {
    "editable": true,
    "slideshow": {
     "slide_type": ""
    },
    "tags": []
   },
   "source": [
    "<br>"
   ]
  },
  {
   "cell_type": "code",
   "execution_count": null,
   "id": "05556824-da9e-40ff-8288-bad4165cf099",
   "metadata": {
    "editable": true,
    "slideshow": {
     "slide_type": "fragment"
    },
    "tags": []
   },
   "outputs": [],
   "source": [
    "quadratic_formula(1/2, -3, 5/2)"
   ]
  },
  {
   "cell_type": "code",
   "execution_count": null,
   "id": "f3b2b73e-72a5-4318-ad70-c321b58db499",
   "metadata": {
    "editable": true,
    "slideshow": {
     "slide_type": ""
    },
    "tags": []
   },
   "outputs": [],
   "source": [
    "quadratic_formula(1/2, -3, 5/2, closer_to_zero=False)"
   ]
  },
  {
   "cell_type": "markdown",
   "id": "5d217022-0c6f-46ad-bf87-bda283568253",
   "metadata": {
    "editable": true,
    "slideshow": {
     "slide_type": ""
    },
    "tags": []
   },
   "source": [
    "<br>"
   ]
  },
  {
   "cell_type": "markdown",
   "id": "080b9296-d0ee-48ba-a5cb-8480f57911e0",
   "metadata": {
    "editable": true,
    "slideshow": {
     "slide_type": "fragment"
    },
    "tags": []
   },
   "source": [
    "<img src=\"img/quadratic-formula.png\" style=\"width: 600px; max-width: 60%;\">"
   ]
  },
  {
   "cell_type": "markdown",
   "id": "28aea390-c3e4-43d9-8901-7c5dc02e1622",
   "metadata": {
    "editable": true,
    "slideshow": {
     "slide_type": "slide"
    },
    "tags": []
   },
   "source": [
    "Next slide.\n",
    "\n",
    "$$ \\frac{-b \\pm \\sqrt{b^2 - 4ac}}{2a} $$"
   ]
  },
  {
   "cell_type": "markdown",
   "id": "fbef53ff-ae93-4e22-aa5e-70ec4fe5081b",
   "metadata": {
    "editable": true,
    "slideshow": {
     "slide_type": "skip"
    },
    "tags": []
   },
   "source": [
    "<br><br><br>"
   ]
  },
  {
   "cell_type": "markdown",
   "id": "9a02ead7-f777-4d2b-8f65-f1c3a3aee4cd",
   "metadata": {
    "editable": true,
    "slideshow": {
     "slide_type": "slide"
    },
    "tags": []
   },
   "source": [
    "## Is it always worth it?"
   ]
  },
  {
   "cell_type": "markdown",
   "id": "480140de-0377-413b-9c89-0420b2ce6d11",
   "metadata": {
    "editable": true,
    "slideshow": {
     "slide_type": "slide"
    },
    "tags": []
   },
   "source": [
    "I don't think so. You've probably noticed how glitchy this extension can be and how much effort it is to assign cell slide types.\n",
    "\n",
    "Sometimes, just being aware of the vertical-scrolling problem and spacing out content with `<br><br><br>` is enough, especially if you have to prepare a presentation in a hurry."
   ]
  }
 ],
 "metadata": {
  "kernelspec": {
   "display_name": "Python 3 (ipykernel)",
   "language": "python",
   "name": "python3"
  },
  "language_info": {
   "codemirror_mode": {
    "name": "ipython",
    "version": 3
   },
   "file_extension": ".py",
   "mimetype": "text/x-python",
   "name": "python",
   "nbconvert_exporter": "python",
   "pygments_lexer": "ipython3",
   "version": "3.12.11"
  }
 },
 "nbformat": 4,
 "nbformat_minor": 5
}
