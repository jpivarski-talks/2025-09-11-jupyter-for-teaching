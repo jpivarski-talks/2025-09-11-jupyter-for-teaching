{
 "cells": [
  {
   "cell_type": "markdown",
   "id": "a5605127-ce51-4dc1-a2e9-60aef8999f9d",
   "metadata": {},
   "source": [
    "## Too much code!"
   ]
  },
  {
   "cell_type": "markdown",
   "id": "f166f420-82c3-4a55-be99-2309070ba525",
   "metadata": {},
   "source": [
    "Quick reminder: [ligo-binder](https://github.com/minrk/ligo-binder/blob/master/index.ipynb)"
   ]
  },
  {
   "cell_type": "markdown",
   "id": "7ba6e704-86fc-41e9-9552-c8d7bfb016e6",
   "metadata": {},
   "source": [
    "<br><br><br>"
   ]
  },
  {
   "cell_type": "markdown",
   "id": "3998da9a-188e-40cd-80dd-26ac013c0568",
   "metadata": {},
   "source": [
    "This is always a struggle, especially when you're trying to make the code fit in large-font slides.\n",
    "\n",
    "On the one hand, you need to show the code because that's what you're teaching.\n",
    "\n",
    "On the other hand, if you show too much, your students won't absorb any of it. It will look like a wall of graffiti."
   ]
  },
  {
   "cell_type": "markdown",
   "id": "feda4105-0228-4077-9dcc-b38e9ea9a55c",
   "metadata": {},
   "source": [
    "<br><br><br>"
   ]
  },
  {
   "cell_type": "markdown",
   "id": "b9476d11-3c32-4cb8-b5a4-d8335d1482c2",
   "metadata": {},
   "source": [
    "Plotting code is usually worst because you want to overlay many elements to make an informative plot, but that means a lot of complicated code."
   ]
  },
  {
   "cell_type": "markdown",
   "id": "c6756fd9-671d-4e0e-8066-28893e2ed537",
   "metadata": {},
   "source": [
    "### Example"
   ]
  },
  {
   "cell_type": "markdown",
   "id": "39c6a7dd-580e-476b-98d0-e83a5aa0c7e8",
   "metadata": {},
   "source": [
    "First, let's import some libraries."
   ]
  },
  {
   "cell_type": "code",
   "execution_count": null,
   "id": "a506908c-a32c-4ae5-af61-d5eb799c22d0",
   "metadata": {},
   "outputs": [],
   "source": [
    "import numpy as np\n",
    "import pandas as pd\n",
    "import matplotlib.pyplot as plt\n",
    "import matplotlib.patches as mpl_patches\n",
    "from sklearn.linear_model import LogisticRegression"
   ]
  },
  {
   "cell_type": "markdown",
   "id": "81ab1a61-fa7e-4197-8455-fd1239913363",
   "metadata": {},
   "source": [
    "<br><br><br>"
   ]
  },
  {
   "cell_type": "markdown",
   "id": "905c9896-4e7c-4dc3-86f8-b7923b63a135",
   "metadata": {},
   "source": [
    "We're going to be classifying [penguin species by their bill shape](https://www.kaggle.com/code/parulpandey/penguin-dataset-the-new-iris).\n",
    "\n",
    "<img src=\"img/culmen_depth.png\" style=\"width: 300px; max-width: 30%;\">"
   ]
  },
  {
   "cell_type": "code",
   "execution_count": null,
   "id": "eac288ac-4b99-496a-b022-16451bbed1d4",
   "metadata": {},
   "outputs": [],
   "source": [
    "penguins = pd.read_csv(\"data/penguins.csv\").dropna()\n",
    "penguins[\"species_code\"], code_to_name = pd.factorize(penguins[\"species\"])\n",
    "penguins"
   ]
  },
  {
   "cell_type": "markdown",
   "id": "47e09861-ac57-418c-882e-f5829c3dc739",
   "metadata": {},
   "source": [
    "<br><br><br>"
   ]
  },
  {
   "cell_type": "markdown",
   "id": "9379b980-18ef-4b5d-b361-08e06a39c671",
   "metadata": {},
   "source": [
    "How are they distributed?"
   ]
  },
  {
   "cell_type": "code",
   "execution_count": null,
   "id": "3fddae98-619d-48c2-9306-90b69985eb5d",
   "metadata": {},
   "outputs": [],
   "source": [
    "fig, ax = plt.subplots()\n",
    "\n",
    "# scatter plot for each species in a different color\n",
    "for species, color in zip(code_to_name, [\"tab:blue\", \"tab:orange\", \"tab:green\"]):\n",
    "    penguins.query(f\"species == {species!r}\").plot.scatter(\n",
    "        \"bill_length_mm\", \"bill_depth_mm\", ax=ax, c=color, label=species\n",
    "    )\n",
    "\n",
    "ax.legend(loc=\"lower right\")\n",
    "\n",
    "ax.set_xlabel(\"bill length (mm)\")\n",
    "ax.set_ylabel(\"bill depth (mm)\")\n",
    "\n",
    "None  # ending a plotting cell with None is a good way to avoid unwanted code-output"
   ]
  },
  {
   "cell_type": "markdown",
   "id": "49748eb8-e5eb-442e-beee-d62d0a701a26",
   "metadata": {},
   "source": [
    "<br><br><br>"
   ]
  },
  {
   "cell_type": "markdown",
   "id": "c15da6be-d871-457e-ae22-674cbab6234c",
   "metadata": {},
   "source": [
    "Now build a logistic regression model to classify them."
   ]
  },
  {
   "cell_type": "code",
   "execution_count": null,
   "id": "27935e14-1997-45d3-bea2-cc11b13400fe",
   "metadata": {},
   "outputs": [],
   "source": [
    "best_fit = LogisticRegression().fit(\n",
    "    penguins[[\"bill_length_mm\", \"bill_depth_mm\"]].values, penguins[\"species_code\"].values\n",
    ")\n",
    "best_fit"
   ]
  },
  {
   "cell_type": "markdown",
   "id": "249d1116-44dc-4284-9476-36ad4c6ecc06",
   "metadata": {},
   "source": [
    "<br><br><br>"
   ]
  },
  {
   "cell_type": "markdown",
   "id": "45b46460-a3ef-4980-ac67-03e2dccfdac8",
   "metadata": {},
   "source": [
    "How well did it do? Let's categorize the entire bill length, bill depth space according to this model."
   ]
  },
  {
   "cell_type": "code",
   "execution_count": null,
   "id": "a3dcb671-d838-4a4e-bfc3-bf8f252a8484",
   "metadata": {},
   "outputs": [],
   "source": [
    "fig, ax = plt.subplots()\n",
    "\n",
    "xlow = 29; xhigh = 61; ylow = 12; yhigh = 22\n",
    "\n",
    "# compute the three probabilities for every 2D point in the background\n",
    "background_x, background_y = np.meshgrid(np.linspace(xlow, xhigh, 100), np.linspace(ylow, yhigh, 100))\n",
    "background_2d = np.column_stack([background_x.ravel(), background_y.ravel()])\n",
    "probabilities = best_fit.predict_proba(background_2d)\n",
    "\n",
    "# fill in regions of greater than 50% probability with the appropriate color\n",
    "handles = []\n",
    "for code, (species, colormap) in enumerate(zip(code_to_name, [\"Blues\", \"Oranges\", \"Greens\"])):\n",
    "    ax.contourf(\n",
    "        background_x, background_y, probabilities[:, code].reshape(background_x.shape),\n",
    "        [0.5, 1],\n",
    "        cmap=colormap,\n",
    "    )\n",
    "    handles.append(mpl_patches.Patch(color=plt.get_cmap(colormap)(0.5), label=species))\n",
    "\n",
    "# draw contour lines where the probabilities cross the 50% threshold\n",
    "for code in range(len(code_to_name)):\n",
    "    ax.contour(\n",
    "        background_x, background_y, probabilities[:, code].reshape(background_x.shape),\n",
    "        [0.5],\n",
    "    )\n",
    "\n",
    "ax.legend(handles=handles, loc=\"lower right\", framealpha=1)\n",
    "\n",
    "ax.set_xlabel(\"bill length (mm)\")\n",
    "ax.set_ylabel(\"bill depth (mm)\")\n",
    "\n",
    "None"
   ]
  },
  {
   "cell_type": "markdown",
   "id": "c905213b-6025-4102-b283-2fd2c9757c90",
   "metadata": {},
   "source": [
    "<br><br><br>"
   ]
  },
  {
   "cell_type": "markdown",
   "id": "ace5a296-4f7a-48dc-ab0d-9f2c7cc07691",
   "metadata": {},
   "source": [
    "Now overlay the data on the categorized plane."
   ]
  },
  {
   "cell_type": "code",
   "execution_count": null,
   "id": "a7b2f404-efa0-4bc8-a1c0-f36e94a4a68c",
   "metadata": {},
   "outputs": [],
   "source": [
    "fig, ax = plt.subplots()\n",
    "\n",
    "xlow = 29; xhigh = 61; ylow = 12; yhigh = 22\n",
    "\n",
    "# compute the three probabilities for every 2D point in the background\n",
    "background_x, background_y = np.meshgrid(np.linspace(xlow, xhigh, 100), np.linspace(ylow, yhigh, 100))\n",
    "background_2d = np.column_stack([background_x.ravel(), background_y.ravel()])\n",
    "probabilities = best_fit.predict_proba(background_2d)\n",
    "\n",
    "# fill in regions of greater than 50% probability with the appropriate color\n",
    "fill_handles = []\n",
    "for code, (species, colormap) in enumerate(zip(code_to_name, [\"Blues\", \"Oranges\", \"Greens\"])):\n",
    "    ax.contourf(\n",
    "        background_x, background_y, probabilities[:, code].reshape(background_x.shape),\n",
    "        [0.5, 1],\n",
    "        cmap=colormap,\n",
    "    )\n",
    "    fill_handles.append(mpl_patches.Patch(color=plt.get_cmap(colormap)(0.5), label=species))\n",
    "\n",
    "# draw contour lines where the probabilities cross the 50% threshold\n",
    "for code in range(len(code_to_name)):\n",
    "    ax.contour(\n",
    "        background_x, background_y, probabilities[:, code].reshape(background_x.shape),\n",
    "        [0.5],\n",
    "    )\n",
    "\n",
    "# scatter plot for each species in a different color\n",
    "for species, color in zip(code_to_name, [\"tab:blue\", \"tab:orange\", \"tab:green\"]):\n",
    "    penguins.query(f\"species == {species!r}\").plot.scatter(\n",
    "        \"bill_length_mm\", \"bill_depth_mm\", ax=ax, c=color, ec=\"white\", lw=1, s=40, label=species\n",
    "    )\n",
    "\n",
    "scatter_handles, _ = ax.get_legend_handles_labels()\n",
    "ax.legend(handles=fill_handles + scatter_handles, loc=\"lower right\", framealpha=1)\n",
    "\n",
    "ax.set_xlabel(\"bill length (mm)\")\n",
    "ax.set_ylabel(\"bill depth (mm)\")\n",
    "\n",
    "None"
   ]
  },
  {
   "cell_type": "markdown",
   "id": "440ac52a-b2ac-4fed-be20-928cf0fe04bc",
   "metadata": {},
   "source": [
    "<br><br><br>"
   ]
  },
  {
   "cell_type": "markdown",
   "id": "cb0f2c7f-e252-4635-8254-6545a68fd915",
   "metadata": {},
   "source": [
    "## What to do about the giant code block?"
   ]
  },
  {
   "cell_type": "markdown",
   "id": "4d013d97-a8fe-4565-b0a4-e18957799d0b",
   "metadata": {},
   "source": [
    "For pedagogical reasons, the above presentation shows individual pieces before layering them in the final plot, but that means that the final code block is giant and repeats code already shown.\n",
    "\n",
    "It's hard to see by eye that it _is_ the same code, copy-pasted. (Mostly.)\n",
    "\n",
    "The usual way to deal with a programming problem like this is to \"factorize\" the code into small, reusable functions, but you have an additional constraint:\n",
    "* if you encapsulate some of the plotting code into a function to reuse later, it might need to be specialized to make it usable in the later context, but\n",
    "* it has to make sense to students in the original context without extraneous complications. You can't say, \"Ignore this part; it's not relevant yet.\""
   ]
  },
  {
   "cell_type": "markdown",
   "id": "c21d5ab2-efeb-4317-b720-bf929502c07f",
   "metadata": {},
   "source": [
    "<br><br><br>"
   ]
  },
  {
   "cell_type": "markdown",
   "id": "21fb3414-ea1f-4b71-b293-a6fb2956d4ae",
   "metadata": {},
   "source": [
    "For instance, in the following:"
   ]
  },
  {
   "cell_type": "code",
   "execution_count": null,
   "id": "fe3e2e26-9767-4aff-8007-7609264f0464",
   "metadata": {},
   "outputs": [],
   "source": [
    "def plot_data_points(ax):\n",
    "    # scatter plot for each species in a different color\n",
    "    for species, color in zip(code_to_name, [\"tab:blue\", \"tab:orange\", \"tab:green\"]):\n",
    "        penguins.query(f\"species == {species!r}\").plot.scatter(\n",
    "            \"bill_length_mm\", \"bill_depth_mm\", ax=ax, c=color, ec=\"white\", lw=1, s=40, label=species\n",
    "        )\n",
    "    \n",
    "    handles, _ = ax.get_legend_handles_labels()\n",
    "\n",
    "    return handles"
   ]
  },
  {
   "cell_type": "markdown",
   "id": "7f1dca3f-5acd-40dc-bf14-f6374e7b8d86",
   "metadata": {},
   "source": [
    "it's not clear why we're messing with and edge color and size, `ec=\"white\", lw=1, s=40`, but it's because the scatter points will be overlaid on a solid color and they won't show up without white outlines.\n",
    "\n",
    "It also doesn't explain why it's exporting `handles`, though they'll later be needed to combine labels in the legend. (A plot has only one legend; it doesn't \"factorize\" perfectly!)\n",
    "\n",
    "Fortunately, we only need to overlay one thing that automatically generates handles and one thing that needs them to be manually constructed. So we can simplify this function to"
   ]
  },
  {
   "cell_type": "code",
   "execution_count": null,
   "id": "9b7ccca4-8971-499e-9960-2512bb48822c",
   "metadata": {},
   "outputs": [],
   "source": [
    "def plot_data_points(ax):\n",
    "    # scatter plot for each species in a different color\n",
    "    for species, color in zip(code_to_name, [\"tab:blue\", \"tab:orange\", \"tab:green\"]):\n",
    "        penguins.query(f\"species == {species!r}\").plot.scatter(\n",
    "            \"bill_length_mm\", \"bill_depth_mm\", ax=ax, c=color, ec=\"white\", lw=1, s=40, label=species\n",
    "        )"
   ]
  },
  {
   "cell_type": "markdown",
   "id": "9ff90e61-58bd-4033-825d-65ff72c79246",
   "metadata": {},
   "source": [
    "(which still doesn't explain the edge colors, but okay)."
   ]
  },
  {
   "cell_type": "code",
   "execution_count": null,
   "id": "151aca5d-86a4-4072-951c-b282ddb460c0",
   "metadata": {},
   "outputs": [],
   "source": [
    "fig, ax = plt.subplots()\n",
    "\n",
    "plot_data_points(ax)\n",
    "\n",
    "ax.set_xlabel(\"bill length (mm)\")\n",
    "ax.set_ylabel(\"bill depth (mm)\")\n",
    "\n",
    "ax.legend(loc=\"lower right\")\n",
    "\n",
    "None"
   ]
  },
  {
   "cell_type": "markdown",
   "id": "fcd40a53-2272-46ac-8b38-466079081ac7",
   "metadata": {},
   "source": [
    "<br><br><br>"
   ]
  },
  {
   "cell_type": "markdown",
   "id": "3a6ac255-793b-4b22-939b-fd481330a4d5",
   "metadata": {},
   "source": [
    "Now for the fill regions. We need to specify the axis ranges, so let's make them (default) parameters of the function."
   ]
  },
  {
   "cell_type": "code",
   "execution_count": null,
   "id": "16eb0ae3-5d09-4f1e-ab3a-126ed7d9fb07",
   "metadata": {},
   "outputs": [],
   "source": [
    "def plot_model_prediction(ax, xlow=29, xhigh=61, ylow=12, yhigh=22):\n",
    "    # compute the three probabilities for every 2D point in the background\n",
    "    background_x, background_y = np.meshgrid(np.linspace(xlow, xhigh, 100), np.linspace(ylow, yhigh, 100))\n",
    "    background_2d = np.column_stack([background_x.ravel(), background_y.ravel()])\n",
    "    probabilities = best_fit.predict_proba(background_2d)\n",
    "    \n",
    "    # fill in regions of greater than 50% probability with the appropriate color\n",
    "    fill_handles = []\n",
    "    for code, (species, colormap) in enumerate(zip(code_to_name, [\"Blues\", \"Oranges\", \"Greens\"])):\n",
    "        ax.contourf(\n",
    "            background_x, background_y, probabilities[:, code].reshape(background_x.shape),\n",
    "            [0.5, 1],\n",
    "            cmap=colormap,\n",
    "        )\n",
    "        fill_handles.append(mpl_patches.Patch(color=plt.get_cmap(colormap)(0.5), label=species))\n",
    "    \n",
    "    # draw contour lines where the probabilities cross the 50% threshold\n",
    "    for code in range(len(code_to_name)):\n",
    "        ax.contour(\n",
    "            background_x, background_y, probabilities[:, code].reshape(background_x.shape),\n",
    "            [0.5],\n",
    "        )\n",
    "\n",
    "    # for the legend\n",
    "    return fill_handles"
   ]
  },
  {
   "cell_type": "code",
   "execution_count": null,
   "id": "e96cf454-b2f5-4c5c-b888-0bd87be180fb",
   "metadata": {},
   "outputs": [],
   "source": [
    "fig, ax = plt.subplots()\n",
    "\n",
    "fill_handles = plot_model_prediction(ax)\n",
    "\n",
    "ax.legend(handles=fill_handles, loc=\"lower right\", framealpha=1)\n",
    "\n",
    "ax.set_xlabel(\"bill length (mm)\")\n",
    "ax.set_ylabel(\"bill depth (mm)\")\n",
    "\n",
    "None"
   ]
  },
  {
   "cell_type": "markdown",
   "id": "3efc6c15-1739-41b5-ab7f-b81373cdfc73",
   "metadata": {},
   "source": [
    "<br><br><br>"
   ]
  },
  {
   "cell_type": "markdown",
   "id": "63781a0f-9466-484d-a1d7-d2ee8e3a4264",
   "metadata": {},
   "source": [
    "Now it isn't too cumbersome to combine them.\n",
    "\n",
    "Some parts—the declaration of axes (`ax`), the legend, and the axis labeling—are kept outside of the functions because they each appear in a plotting cell exactly once."
   ]
  },
  {
   "cell_type": "code",
   "execution_count": null,
   "id": "994a1da2-9469-450e-a9d8-a9b158357f40",
   "metadata": {},
   "outputs": [],
   "source": [
    "fig, ax = plt.subplots()\n",
    "\n",
    "fill_handles = plot_model_prediction(ax)\n",
    "plot_data_points(ax)\n",
    "scatter_handles, _ = ax.get_legend_handles_labels()\n",
    "\n",
    "ax.legend(handles=fill_handles + scatter_handles, loc=\"lower right\", framealpha=1)\n",
    "\n",
    "ax.set_xlabel(\"bill length (mm)\")\n",
    "ax.set_ylabel(\"bill depth (mm)\")\n",
    "\n",
    "None"
   ]
  },
  {
   "cell_type": "markdown",
   "id": "b041fac6-51a0-4313-879a-dfea3dc004b8",
   "metadata": {},
   "source": [
    "<br><br><br>"
   ]
  },
  {
   "cell_type": "markdown",
   "id": "7a405d64-1294-49ad-a6bf-05d117148426",
   "metadata": {},
   "source": [
    "## Even better: make a mini-library"
   ]
  },
  {
   "cell_type": "markdown",
   "id": "347db21e-03ee-482a-9d87-71a44932a992",
   "metadata": {},
   "source": [
    "Even though `plot_model_prediction` has been encapsulated in a function, it contains complexities we don't need the students to see.\n",
    "\n",
    "Thinking about what's important in this lesson, it's\n",
    "1. \"categorized data are colored scatter points\" and\n",
    "2. \"model predictions are fill-colors on the plane\".\n",
    "\n",
    "The\n",
    "\n",
    "```python\n",
    "penguins.query(f\"species == {species!r}\").plot.scatter(\"bill_length_mm\", \"bill_depth_mm\")\n",
    "```\n",
    "\n",
    "is self-explanatory, but\n",
    "\n",
    "```python\n",
    "# compute the three probabilities for every 2D point in the background\n",
    "background_x, background_y = np.meshgrid(np.linspace(xlow, xhigh, 100), np.linspace(ylow, yhigh, 100))\n",
    "background_2d = np.column_stack([background_x.ravel(), background_y.ravel()])\n",
    "probabilities = best_fit.predict_proba(background_2d)\n",
    "\n",
    "# fill in regions of greater than 50% probability with the appropriate color\n",
    "fill_handles = []\n",
    "for code, (species, colormap) in enumerate(zip(code_to_name, [\"Blues\", \"Oranges\", \"Greens\"])):\n",
    "    ax.contourf(\n",
    "        background_x, background_y, probabilities[:, code].reshape(background_x.shape),\n",
    "        [0.5, 1],\n",
    "        cmap=colormap,\n",
    "    )\n",
    "    fill_handles.append(mpl_patches.Patch(color=plt.get_cmap(colormap)(0.5), label=species))\n",
    "\n",
    "# draw contour lines where the probabilities cross the 50% threshold\n",
    "for code in range(len(code_to_name)):\n",
    "    ax.contour(\n",
    "        background_x, background_y, probabilities[:, code].reshape(background_x.shape),\n",
    "        [0.5],\n",
    "    )\n",
    "```\n",
    "\n",
    "is a lot of nonsense for \"color the plane by model prediction.\" A lot of this can be hidden in a mini-library.\n",
    "\n",
    "See [util.py](util.py)."
   ]
  },
  {
   "cell_type": "markdown",
   "id": "79ccbd19-5453-4499-b7c9-cd38b8e05835",
   "metadata": {},
   "source": [
    "<br><br><br>"
   ]
  },
  {
   "cell_type": "code",
   "execution_count": null,
   "id": "94f269c3-82c2-4e19-b6bf-e45faccffdca",
   "metadata": {},
   "outputs": [],
   "source": [
    "from util import color_plane_by_prediction"
   ]
  },
  {
   "cell_type": "code",
   "execution_count": null,
   "id": "7a390e2e-9d33-4a15-8e43-4dd93f7ff048",
   "metadata": {},
   "outputs": [],
   "source": [
    "def plot_model_prediction(ax, xlow=29, xhigh=61, ylow=12, yhigh=22):\n",
    "    return color_plane_by_prediction(\n",
    "        best_fit,\n",
    "        code_to_name,\n",
    "        [\"Blues\", \"Oranges\", \"Greens\"],\n",
    "        xlow=xlow,\n",
    "        xhigh=xhigh,\n",
    "        ylow=ylow,\n",
    "        yhigh=yhigh,\n",
    "        ax=ax,\n",
    "    )"
   ]
  },
  {
   "cell_type": "code",
   "execution_count": null,
   "id": "8a759dd7-d817-431c-b021-5fc96094b7c9",
   "metadata": {},
   "outputs": [],
   "source": [
    "fig, ax = plt.subplots()\n",
    "\n",
    "fill_handles = plot_model_prediction(ax)\n",
    "\n",
    "ax.legend(handles=fill_handles, loc=\"lower right\", framealpha=1)\n",
    "\n",
    "ax.set_xlabel(\"bill length (mm)\")\n",
    "ax.set_ylabel(\"bill depth (mm)\")\n",
    "\n",
    "None"
   ]
  },
  {
   "cell_type": "markdown",
   "id": "4528f1e1-2803-4a2b-b1d4-26812d4d4e6e",
   "metadata": {},
   "source": [
    "and"
   ]
  },
  {
   "cell_type": "code",
   "execution_count": null,
   "id": "94efaa4c-27ca-4539-9c08-920cd91ab04a",
   "metadata": {},
   "outputs": [],
   "source": [
    "fig, ax = plt.subplots()\n",
    "\n",
    "fill_handles = plot_model_prediction(ax)\n",
    "\n",
    "plot_data_points(ax)\n",
    "scatter_handles, _ = ax.get_legend_handles_labels()\n",
    "\n",
    "ax.legend(handles=fill_handles + scatter_handles, loc=\"lower right\", framealpha=1)\n",
    "\n",
    "ax.set_xlabel(\"bill length (mm)\")\n",
    "ax.set_ylabel(\"bill depth (mm)\")\n",
    "\n",
    "None"
   ]
  },
  {
   "cell_type": "markdown",
   "id": "be709baf-c3d4-48e0-9a2a-1b3f26e5336e",
   "metadata": {},
   "source": [
    "<br><br><br>"
   ]
  },
  {
   "cell_type": "markdown",
   "id": "8cad5883-1c3e-4bcf-8fd4-df0c0729e997",
   "metadata": {},
   "source": [
    "If you hide code in a mini-library, it _must_ be irrelevant to what you're trying to teach. You're separating code into a pedagogical part and a technical part: the pedagogical part must be all about the data, models, and whatever else you're teaching, and the technical part must be irrelevant things like getting colors onto a plot."
   ]
  }
 ],
 "metadata": {
  "kernelspec": {
   "display_name": "Python 3 (ipykernel)",
   "language": "python",
   "name": "python3"
  },
  "language_info": {
   "codemirror_mode": {
    "name": "ipython",
    "version": 3
   },
   "file_extension": ".py",
   "mimetype": "text/x-python",
   "name": "python",
   "nbconvert_exporter": "python",
   "pygments_lexer": "ipython3",
   "version": "3.12.11"
  }
 },
 "nbformat": 4,
 "nbformat_minor": 5
}
