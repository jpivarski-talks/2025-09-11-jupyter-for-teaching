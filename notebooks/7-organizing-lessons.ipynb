{
 "cells": [
  {
   "cell_type": "markdown",
   "id": "52352517-5bbb-4ee9-bd63-a4babdb4d759",
   "metadata": {},
   "source": [
    "## One Jupyter notebook or many?"
   ]
  },
  {
   "cell_type": "markdown",
   "id": "89724aef-552d-434b-8d4b-0057ca48d314",
   "metadata": {},
   "source": [
    "**Advantages** of one notebook:\n",
    "* Students don't get lost looking for the current notebook file.\n",
    "* Variables and functions can be reused without needing to be redefined.\n",
    "\n",
    "**Disadvantages** of one notebook:\n",
    "* Students can get lost scrolling up and down the file.\n",
    "* Variables and functions might get redefined with subtly different meanings through a notebook. If they evaluate it out of order, it won't work correctly."
   ]
  },
  {
   "cell_type": "markdown",
   "id": "5de150d7-d2c5-4165-ba32-8a871ac73bee",
   "metadata": {},
   "source": [
    "<br><br><br>"
   ]
  },
  {
   "cell_type": "markdown",
   "id": "6454c71f-9ab7-4eb3-b7d5-972fb119b94f",
   "metadata": {},
   "source": [
    "## Should students run the same notebook you're running?"
   ]
  },
  {
   "cell_type": "markdown",
   "id": "f2a2f04b-d477-45e1-a4d6-681ad2d0f218",
   "metadata": {},
   "source": [
    "It may seem obvious that they should, but suppose you have a lot of expository material sprinkled with small exercises. Usually, the code for the exercises won't work unless the students have been executing all the cells along with you—hitting \"shift-enter\" through the notebook.\n",
    "\n",
    "If they haven't been hitting \"shift-enter\", they have to scramble to figure out how much of the notebook to run to get to the exercise in the short amount of time you give them to do it.\n",
    "\n",
    "If they have been hitting \"shift-enter\", their attention has been divided between the big screen you're presenting from and the little screen in front of them. That's a lot of context switching!\n",
    "\n",
    "My suggestion for short exercises: separate your `lecture.ipynb` from their `lecture-workbook.ipynb` and fill the latter with only as much code as is needed for the short exercises.\n",
    "\n",
    "**Example:** [jpivarski-talks/2025-07-07-scipy2025-tutorial-thinking-in-arrays](https://github.com/jpivarski-talks/2025-07-07-scipy2025-tutorial-thinking-in-arrays)"
   ]
  },
  {
   "cell_type": "markdown",
   "id": "a3c1c892-50fb-461f-a826-a66ba81d0f02",
   "metadata": {},
   "source": [
    "<br><br><br>"
   ]
  },
  {
   "cell_type": "markdown",
   "id": "03d6b99e-b0d4-474c-8890-1917f98adafe",
   "metadata": {},
   "source": [
    "Alternatively, don't do short exercises at all! You always lose time to context-switching, and the time may be better spent in a long exercise of a half hour or more."
   ]
  },
  {
   "cell_type": "markdown",
   "id": "046eacab-c150-46f2-af73-8763ac924506",
   "metadata": {},
   "source": [
    "<br><br><br>"
   ]
  },
  {
   "cell_type": "markdown",
   "id": "77b51c7d-417f-403e-a350-a32ecad569d8",
   "metadata": {},
   "source": [
    "## Hiding hints and solutions"
   ]
  },
  {
   "cell_type": "markdown",
   "id": "65a54a43-d0b4-4871-8de8-4af024722b31",
   "metadata": {},
   "source": [
    "HTML has a lot of useful tricks. Consider `<details>`:\n",
    "\n",
    "<details>\n",
    "    <summary><b>Hint:</b></summary>\n",
    "\n",
    "You can have markdown, _like this_, inside of HTML in a markdown cell.\n",
    "\n",
    "</details>"
   ]
  },
  {
   "cell_type": "markdown",
   "id": "b95357d8-2bbf-45fe-98e2-e2b48c752e1b",
   "metadata": {},
   "source": [
    "<br><br><br>"
   ]
  },
  {
   "cell_type": "markdown",
   "id": "1c0bdd55-3876-4024-9345-7993a04f50f8",
   "metadata": {},
   "source": [
    "## More HTML goodies"
   ]
  },
  {
   "cell_type": "markdown",
   "id": "fad45c8d-73f2-49f1-9290-5e737288a9cb",
   "metadata": {},
   "source": [
    "Markdown cells don't support very complex HTML, but code cells starting with `%%html` do.\n",
    "\n",
    "This one lets you embed another website in your notebook, which has various uses."
   ]
  },
  {
   "cell_type": "code",
   "execution_count": null,
   "id": "af3a665c-7ed2-4060-ac01-61f1df6ac53a",
   "metadata": {},
   "outputs": [],
   "source": [
    "%%html\n",
    "\n",
    "<div style=\"overflow: hidden;\">\n",
    "    <iframe src=\"https://tryapl.org/\" width=\"100%\" height=\"380\" scrolling=\"no\" style=\"border: none;\">\n",
    "</div>"
   ]
  },
  {
   "cell_type": "markdown",
   "id": "66d1959c-2dd4-4e6e-a0e6-63d85eab3b03",
   "metadata": {},
   "source": [
    "<br><br><br>"
   ]
  },
  {
   "cell_type": "markdown",
   "id": "2515f8be-282f-474a-85ee-24bfd6fc3ac9",
   "metadata": {},
   "source": [
    "If you need to generate HTML (or audio, images, etc.) with Python, you can do that with [IPython.display](https://ipython.readthedocs.io/en/stable/api/generated/IPython.display.html)."
   ]
  },
  {
   "cell_type": "code",
   "execution_count": null,
   "id": "e35c107d-b671-44a6-afe0-649b8685a4d0",
   "metadata": {},
   "outputs": [],
   "source": [
    "from IPython.display import display, HTML"
   ]
  },
  {
   "cell_type": "code",
   "execution_count": null,
   "id": "4c3a0f30-f7d3-4f98-b2b4-69c1c5e32c12",
   "metadata": {},
   "outputs": [],
   "source": [
    "def fibonacci(n):\n",
    "    if n <= 1:\n",
    "        return n\n",
    "    else:\n",
    "        return fibonacci(n - 1) + fibonacci(n - 2)"
   ]
  },
  {
   "cell_type": "code",
   "execution_count": null,
   "id": "f7d226c6-503e-441d-a544-da61c3204afe",
   "metadata": {},
   "outputs": [],
   "source": [
    "n = int(input(\"n =\"))\n",
    "\n",
    "display(HTML(f\"\"\"\n",
    "<div style=\"font-size: 32px; margin: 100px;\">\n",
    "    The <b>{n}th</b> Fibonacci number is <b>{fibonacci(n)}</b>.\n",
    "</div>\n",
    "\"\"\"))"
   ]
  },
  {
   "cell_type": "markdown",
   "id": "e3dab821-4841-4dfe-a149-2262e0f1b77e",
   "metadata": {},
   "source": [
    "Or use [`_repr_html_`, `_repr_svg_`, etc.](https://ipython.readthedocs.io/en/stable/config/integrating.html) to make Python objects represent themselves as HTML, images, etc.\n",
    "\n",
    "(This is how Pandas presents DataFrames as neat tables.)"
   ]
  },
  {
   "cell_type": "code",
   "execution_count": null,
   "id": "8c7be6d9-80b1-4b84-a95e-1d9f3c0cf6d2",
   "metadata": {},
   "outputs": [],
   "source": [
    "# A big code block that should be in a mini-library!\n",
    "\n",
    "import xml.etree.ElementTree\n",
    "\n",
    "class SVG(xml.etree.ElementTree.Element):\n",
    "    def __str__(self):\n",
    "        return xml.etree.ElementTree.tostring(svg.svg(\n",
    "            self._builder.__getattr__(\"defs\")(*self._builder.defs), self, **self._builder._svg_attributes\n",
    "        )).decode()\n",
    "    def _repr_svg_(self):  # this is where an SVG object asks to be presented as an image, rather than code for an image\n",
    "        return str(self)\n",
    "\n",
    "class SVGBuilder:\n",
    "    def __init__(self, **attributes):\n",
    "        self._svg_attributes = dict(version=\"1.1\", xmlns=\"http://www.w3.org/2000/svg\")\n",
    "        self._svg_attributes.update(attributes)\n",
    "        self.defs = []\n",
    "    def __getattr__(self, tag):\n",
    "        def build(*children, **attributes):\n",
    "            text = []\n",
    "            out = SVG(tag, {key.rstrip(\"_\").replace(\"_\", \"-\"): str(value) for key, value in attributes.items()})\n",
    "            for child in children:\n",
    "                if isinstance(child, xml.etree.ElementTree.Element):\n",
    "                    out.append(child)\n",
    "                else:\n",
    "                    text.append(str(child))\n",
    "            out.text = \"\".join(text)\n",
    "            out._builder = self\n",
    "            return out\n",
    "        return build\n",
    "    def __call__(self, points):\n",
    "        return \" \".join(\" \".join(map(str, x)) if isinstance(x, tuple) else str(x) for x in points)"
   ]
  },
  {
   "cell_type": "markdown",
   "id": "486833e9-e061-4cb4-8119-d8ea638d3dbc",
   "metadata": {},
   "source": [
    "<br><br><br>"
   ]
  },
  {
   "cell_type": "code",
   "execution_count": null,
   "id": "07f5b5c6-b10c-44e4-9a24-2f31e90e319b",
   "metadata": {},
   "outputs": [],
   "source": [
    "svg = SVGBuilder(width=400, height=300)\n",
    "\n",
    "orbit = svg.g(\n",
    "    svg.circle(cx=280, cy=150, r=5, fill=\"black\"),\n",
    "    svg.circle(cx=280, cy=150, r=40, stroke=\"black\", fill=\"none\"),\n",
    "    svg.circle(cx=320, cy=150, r=10, stroke=\"black\", fill=\"orange\"),\n",
    "    svg.animateTransform(\n",
    "        attributeName=\"transform\", type_=\"rotate\", dur=\"10s\",\n",
    "        from_=\"360 280 150\", to=\"0 280 150\", repeatCount=\"indefinite\",\n",
    "    ),\n",
    ")"
   ]
  },
  {
   "cell_type": "code",
   "execution_count": null,
   "id": "59ff2c80-c255-41c2-9316-c0456b6c69ce",
   "metadata": {},
   "outputs": [],
   "source": [
    "orbit"
   ]
  },
  {
   "cell_type": "code",
   "execution_count": null,
   "id": "e99fe9b5-3a4f-4e78-a8b3-b8a177abc89d",
   "metadata": {},
   "outputs": [],
   "source": [
    "epicycle = svg.g(\n",
    "    svg.circle(cx=200, cy=150, r=5, fill=\"black\"),\n",
    "    svg.circle(cx=200, cy=150, r=80, stroke=\"black\", fill=\"none\"),\n",
    "    orbit,\n",
    "    svg.animateTransform(\n",
    "        attributeName=\"transform\", type_=\"rotate\", dur=\"20s\",\n",
    "        from_=\"0 200 150\", to=\"360 200 150\", repeatCount=\"indefinite\"\n",
    "    ),\n",
    ")"
   ]
  },
  {
   "cell_type": "code",
   "execution_count": null,
   "id": "40eac34f-88ec-4161-9642-771dc9a7b964",
   "metadata": {},
   "outputs": [],
   "source": [
    "epicycle"
   ]
  },
  {
   "cell_type": "code",
   "execution_count": null,
   "id": "d692b07b-436a-45d7-a12c-d6f54f2db4f5",
   "metadata": {},
   "outputs": [],
   "source": [
    "svg.g(\n",
    "    svg.ellipse(cx=200, cy=150, rx=120, ry=40, stroke=\"black\", fill=\"none\", stroke_dasharray=\"3 3\"),\n",
    "    epicycle,\n",
    ")"
   ]
  },
  {
   "cell_type": "markdown",
   "id": "eb3c5c7f-9753-410a-8b2f-9ecf049da77d",
   "metadata": {},
   "source": [
    "<br><br><br>"
   ]
  },
  {
   "cell_type": "markdown",
   "id": "22783add-ddd6-4160-b129-e7c6e656fbd7",
   "metadata": {},
   "source": [
    "## What if your students aren't comfortable with Jupyter?"
   ]
  },
  {
   "cell_type": "markdown",
   "id": "f9a08cc5-0831-458a-8143-0cab0f96390d",
   "metadata": {},
   "source": [
    "The most common way in which I've seen students stumble is by not recognizing that the order in which they run the cells is important. In a spreadsheet, if you change the value or equation of any cell, all other cells update immediately.\n",
    "\n",
    "There are ways to make notebooks **reactive**, that is, to update all cells when one cell is changed.\n",
    "* [marimo](https://marimo.io/) is an alternative to Jupyter with this feature built-in.\n",
    "* [ipyflow](https://github.com/ipyflow/ipyflow?tab=readme-ov-file#readme) is a kernel that runs in Jupyter to provide this feature.\n",
    "\n",
    "However, not understanding the significance of evaluation order has deeper consequences for programming in general. If your students are going to be doing much Python coding, you'll want them to understand this. (Also, if any steps are time-consuming, you might not want them to re-run automatically!)"
   ]
  },
  {
   "cell_type": "markdown",
   "id": "eda7e840-6415-4d29-96ae-3dd2c94fd019",
   "metadata": {},
   "source": [
    "<br><br><br>"
   ]
  },
  {
   "cell_type": "markdown",
   "id": "cc57c35c-c5e3-49ee-8131-ce0b893e1df3",
   "metadata": {},
   "source": [
    "This is a mini-exercise that I give students if I think they'll need help:\n",
    "\n",
    "**Run the following cells in order from step 1 to step 5.**"
   ]
  },
  {
   "cell_type": "code",
   "execution_count": null,
   "id": "1bb93e38-2ec5-4a3b-8010-7983db6d6fa3",
   "metadata": {},
   "outputs": [],
   "source": [
    "# step 4\n",
    "x = x**2"
   ]
  },
  {
   "cell_type": "code",
   "execution_count": null,
   "id": "35475e93-6ea4-428d-9f4d-4ea517b6a07a",
   "metadata": {},
   "outputs": [],
   "source": [
    "# step 2\n",
    "x = x * 2"
   ]
  },
  {
   "cell_type": "code",
   "execution_count": null,
   "id": "5652e02a-1014-428d-908b-e959eccad794",
   "metadata": {},
   "outputs": [],
   "source": [
    "# step 1\n",
    "x = 1"
   ]
  },
  {
   "cell_type": "code",
   "execution_count": null,
   "id": "339aa172-d201-477d-9ede-a2f0aa1ba466",
   "metadata": {},
   "outputs": [],
   "source": [
    "# step 5\n",
    "x -= 20"
   ]
  },
  {
   "cell_type": "code",
   "execution_count": null,
   "id": "3df454ff-b2f3-43c9-afb4-5fb65c10eb03",
   "metadata": {},
   "outputs": [],
   "source": [
    "# step 3\n",
    "x += 5"
   ]
  },
  {
   "cell_type": "markdown",
   "id": "f3838787-73c1-4f38-969e-5e08ca51a538",
   "metadata": {},
   "source": [
    "**If you ran them in the right order, the value of `x` will be `29`. Run the next cell.**"
   ]
  },
  {
   "cell_type": "code",
   "execution_count": null,
   "id": "a89b51b6-0254-44aa-9ed3-5a29e6dd9d0e",
   "metadata": {},
   "outputs": [],
   "source": [
    "x"
   ]
  },
  {
   "cell_type": "markdown",
   "id": "4ba37aa7-38f0-4450-aee6-f667a7e7346c",
   "metadata": {},
   "source": [
    "**Is it 29?**"
   ]
  },
  {
   "cell_type": "markdown",
   "id": "d5156593-462b-4e57-b94a-73977106612d",
   "metadata": {},
   "source": [
    "<br><br><br>"
   ]
  },
  {
   "cell_type": "markdown",
   "id": "adf22a4d-ae92-4b34-803b-0c0c55e381b2",
   "metadata": {},
   "source": [
    "If they drag the cells into order and evaluate from top to bottom, that's an indication that they understand it.\n",
    "\n",
    "If they ever get their notebook in a mess, remind them that they can \"Restart Kernel\".\n",
    "\n",
    "<img src=\"img/restart-kernel.png\" style=\"width: 750px; max-width: 75%;\">"
   ]
  },
  {
   "cell_type": "markdown",
   "id": "038675be-88b5-41ec-b67d-e762f9928085",
   "metadata": {},
   "source": [
    "<br><br><br>"
   ]
  },
  {
   "cell_type": "markdown",
   "id": "9f73798f-c064-4ba0-9c4a-0e7b3f173ad3",
   "metadata": {},
   "source": [
    "Another cross-check that you can add to a notebook are cells that just spit out some of the symbols they're supposed to have imported.\n",
    "\n",
    "It's pretty common for them to forget to run the `import` statements, especially after doing \"Restart Kernel\" without \"Run All\" or \"Run up to Selected Cell\"."
   ]
  },
  {
   "cell_type": "code",
   "execution_count": null,
   "id": "9415799e-fda5-4e22-9603-35ad1fb15186",
   "metadata": {},
   "outputs": [],
   "source": [
    "display"
   ]
  },
  {
   "cell_type": "code",
   "execution_count": null,
   "id": "8acf6142-bda9-4711-8ddc-016ec094cf01",
   "metadata": {},
   "outputs": [],
   "source": [
    "HTML"
   ]
  },
  {
   "cell_type": "code",
   "execution_count": null,
   "id": "a3bd9715-e9f1-49ea-8d67-0aac004d9f7e",
   "metadata": {},
   "outputs": [],
   "source": [
    "xml"
   ]
  },
  {
   "cell_type": "markdown",
   "id": "ae885061-1dac-452e-b521-de6861316eba",
   "metadata": {},
   "source": [
    "<br><br><br>"
   ]
  },
  {
   "cell_type": "markdown",
   "id": "27267115-b5db-4dfe-b5c9-906763530754",
   "metadata": {},
   "source": [
    "## Keeping your git history tidy"
   ]
  },
  {
   "cell_type": "markdown",
   "id": "4ee76141-18cf-4977-b9c1-c3caf4b09f85",
   "metadata": {},
   "source": [
    "Jupyter notebook files (.ipynb) are JSON and plot outputs are inline PNG.\n",
    "\n",
    "Try looking at `5-too-much-code.ipynb` as raw text: right click on it and do \"Open with\" → \"Editor\".\n",
    "\n",
    "When you make changes to a notebook and push them to GitHub, GitHub keeps track of which raw text lines have changed, which is often unreadable.\n",
    "\n",
    "For large Jupyter projects in GitHub, I recommend using [Jupytext](https://jupytext.readthedocs.io/), which represents notebooks either as markdown files with code cells in special back-ticks or as Python files with markdown cells in special comments. It saves no outputs.\n",
    "\n",
    "Example from [a JupyterBook written with Jupytext](https://github.com/hsf-training/deep-learning-intro-for-hep):\n",
    "* [a page rendered by JupyterBook](https://hsf-training.github.io/deep-learning-intro-for-hep/03-basic-fitting.html)\n",
    "* [that page as markdown with code cells in special back-ticks](https://raw.githubusercontent.com/hsf-training/deep-learning-intro-for-hep/refs/heads/main/deep-learning-intro-for-hep/03-basic-fitting.md)\n",
    "* [example git diff](https://github.com/hsf-training/deep-learning-intro-for-hep/commit/1bf2f2a18325e02d1d6fe1af63abadad5025c8c0)"
   ]
  }
 ],
 "metadata": {
  "kernelspec": {
   "display_name": "Python 3 (ipykernel)",
   "language": "python",
   "name": "python3"
  },
  "language_info": {
   "codemirror_mode": {
    "name": "ipython",
    "version": 3
   },
   "file_extension": ".py",
   "mimetype": "text/x-python",
   "name": "python",
   "nbconvert_exporter": "python",
   "pygments_lexer": "ipython3",
   "version": "3.12.11"
  }
 },
 "nbformat": 4,
 "nbformat_minor": 5
}
