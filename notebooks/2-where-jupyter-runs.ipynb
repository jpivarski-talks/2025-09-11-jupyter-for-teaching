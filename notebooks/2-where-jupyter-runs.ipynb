{
 "cells": [
  {
   "cell_type": "markdown",
   "id": "43dcb4a6-4479-4c37-b264-52710c916971",
   "metadata": {},
   "source": [
    "<div style=\"font-size: 32px; margin: 100px;\">Did it work? Are you here?</div>"
   ]
  },
  {
   "cell_type": "markdown",
   "id": "eef67c4c-06f9-4847-a7e1-71fd4f7ae5a5",
   "metadata": {},
   "source": [
    "## Where is Jupyter running?"
   ]
  },
  {
   "cell_type": "markdown",
   "id": "c713a6bb-5898-4338-bd98-a74fe1f1e953",
   "metadata": {},
   "source": [
    "Jupyter has two pieces:\n",
    "* the \"server\" that runs the web application and Python \"kernels\"\n",
    "* the web \"client\" that you see"
   ]
  },
  {
   "attachments": {},
   "cell_type": "markdown",
   "id": "38de2331-954e-4150-a17d-e37162de533e",
   "metadata": {},
   "source": [
    "<img src=\"img/where-it-runs.svg\" style=\"width: 1000px; max-width: 100%;\">"
   ]
  },
  {
   "cell_type": "markdown",
   "id": "6339b339-9f67-424d-a86d-7003ddd6958c",
   "metadata": {},
   "source": [
    "<br><br><br>"
   ]
  },
  {
   "cell_type": "markdown",
   "id": "bad03212-6824-4f0d-92f3-2885316fa963",
   "metadata": {},
   "source": [
    "Although we spend most of our time looking at the web interface, it's important to know where the Jupyter server is running because it will determine whether the software you've installed is visible (whether `import` statements work) and whether Jupyter's file browser sees the right directory.\n",
    "\n",
    "**This is the #1 cause of \"It doesn't work for me!\"**\n",
    "\n",
    "Here are some ways that Jupyter can run:\n",
    "* The \"old normal\" way: Python and its packages are installed globally on the computer, `jupyterlab` is one of those packages, and typing `jupyter lab` in a terminal makes a web browser tab open immediately. The packages it sees are the globally installed ones, and the file browser sees the directory where `jupyter lab` was run and its subdirectories (no others).\n",
    "\n",
    "* More isolated: Python is installed globally, but it's running in a `venv` virtual environment; only the packages in that environment are importable.\n",
    "\n",
    "* `conda` instead of `venv`: also a virtual environment, but Python and other compiled programs are also in the environment.\n",
    "\n",
    "* Even more islated, what we're doing now: Python and its packages are running inside of a Docker container, which isolates a whole filesystem and set of processes. The port must be forwarded with `-p 127.0.0.1:8888:8888` for a web browser (outside the Docker container) to see it. Jupyter can't access any software or files outside of the mini-operating system unless explicitly linked with `-v \"./notebooks:/notebooks` (as we're doing).\n",
    "\n",
    "* More isolated and less common nowadays: you could run a whole operating system in a virtual machine.\n",
    "\n",
    "* The Jupyter server could be a true web server: it could be running on a remote computer, such as the DSI cluster, Binder, Codespaces, or a JupyterHub that you set up yourself (not easy!)."
   ]
  },
  {
   "cell_type": "markdown",
   "id": "3fb1e3ac-e476-4f69-8e2e-bb2fdaaedec6",
   "metadata": {},
   "source": [
    "<br><br><br>"
   ]
  },
  {
   "cell_type": "markdown",
   "id": "5529a6f5-48ff-4115-b149-19c90f8a21e3",
   "metadata": {},
   "source": [
    "Illustrate with a ridiculously nested environment:"
   ]
  },
  {
   "attachments": {},
   "cell_type": "markdown",
   "id": "ee505f3d-fa4b-4c5d-bb37-16ca9a5ccdcf",
   "metadata": {},
   "source": [
    "<img src=\"img/ridiculously-nested.svg\" style=\"width: 1000px; max-width: 100%;\">"
   ]
  },
  {
   "cell_type": "markdown",
   "id": "4c9dc8a7-711a-42ee-84c3-19d346c193a1",
   "metadata": {},
   "source": [
    "**Note:** this is not a recommendation! You would choose only one form of isolation. I'm just showing how each level provides more strict isolation than the last.\n",
    "\n",
    "**Our recommendation:** Docker container. Students will have to install Docker, but Jupyter will run without being confused by the strange things they've installed on their computer.\n",
    "\n",
    "Sometimes, there's good reason to use a remote computer, such as Binder or Codespaces. We'll talk about that."
   ]
  },
  {
   "cell_type": "markdown",
   "id": "fb5023a9-5c54-4444-ad58-e4947ebe7d0e",
   "metadata": {},
   "source": [
    "<br><br><br>"
   ]
  },
  {
   "cell_type": "markdown",
   "id": "4142f914-c8ab-4c00-8376-bcf490cef01d",
   "metadata": {},
   "source": [
    "One more case: sometimes, the Jupyter server (and Python) can run in your web browser as a web application. That's JupyterLite; we'll see that too."
   ]
  },
  {
   "attachments": {},
   "cell_type": "markdown",
   "id": "8e8cd0e3-eed6-4ba5-be87-4f5a4f9c0bd9",
   "metadata": {},
   "source": [
    "<img src=\"img/in-your-web-browser.png\" style=\"width: 750px; max-width: 75%;\">"
   ]
  }
 ],
 "metadata": {
  "kernelspec": {
   "display_name": "Python 3 (ipykernel)",
   "language": "python",
   "name": "python3"
  },
  "language_info": {
   "codemirror_mode": {
    "name": "ipython",
    "version": 3
   },
   "file_extension": ".py",
   "mimetype": "text/x-python",
   "name": "python",
   "nbconvert_exporter": "python",
   "pygments_lexer": "ipython3",
   "version": "3.12.11"
  }
 },
 "nbformat": 4,
 "nbformat_minor": 5
}
