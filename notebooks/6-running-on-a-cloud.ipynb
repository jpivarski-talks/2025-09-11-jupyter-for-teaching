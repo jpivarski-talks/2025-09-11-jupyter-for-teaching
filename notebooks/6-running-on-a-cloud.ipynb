{
 "cells": [
  {
   "cell_type": "markdown",
   "id": "4638089c-2f78-4e23-9c0d-704dd4cce065",
   "metadata": {},
   "source": [
    "Remember this?\n",
    "\n",
    "<img src=\"img/remote-computer.svg\" style=\"width: 1000px; max-width: 100%;\">"
   ]
  },
  {
   "cell_type": "markdown",
   "id": "96165ff1-fc80-421f-bf4c-84c25797ad91",
   "metadata": {},
   "source": [
    "<br><br><br>"
   ]
  },
  {
   "cell_type": "markdown",
   "id": "965fc1be-8535-432e-a591-6b94284424cc",
   "metadata": {},
   "source": [
    "There are good reasons for wanting students to run the code **locally** on their own computers:\n",
    "* They will be working on a Clinic project all quarter. They need consistent access and the ability to save files and be able to find them again.\n",
    "\n",
    "There are good reasons for wanting students to run the code **remotely**:\n",
    "* It's a one-time session and you don't want to lose any time trying to install software, even if it is only git and Docker."
   ]
  },
  {
   "cell_type": "markdown",
   "id": "df7d42eb-07b8-419b-9aed-f174cb256e67",
   "metadata": {},
   "source": [
    "<br><br><br>"
   ]
  },
  {
   "cell_type": "markdown",
   "id": "a8f7d9c3-3ded-4633-8e3c-5ecce99a5e4b",
   "metadata": {},
   "source": [
    "For **local** installations, we recommend Docker because it's least sensitive to weird misconfigurations.\n",
    "\n",
    "For **remote** installations, there are some options.\n",
    "* **Binder:** [jpivarski-talks/2025-09-11-jupyter-for-teaching-binder](https://github.com/jpivarski-talks/2025-09-11-jupyter-for-teaching-binder)\n",
    "* **Codespaces:** [jpivarski-talks/2025-09-11-jupyter-for-teaching-codespaces](https://github.com/jpivarski-talks/2025-09-11-jupyter-for-teaching-codespaces)\n",
    "* **JupyterLite:** [jpivarski-talks/2025-09-11-jupyter-for-teaching-jupyterlite](https://github.com/jpivarski-talks/2025-09-11-jupyter-for-teaching-jupyterlite) (not really remote, but acts like it)\n",
    "\n",
    "You might have heard of JupyterHub, but setting up and maintaining your own JupyterHub server is not easy and not recommended. (The least painful methods are [The Littlest JupyterHub](https://tljh.jupyter.org/) and [Nebari](https://www.nebari.dev/).)"
   ]
  }
 ],
 "metadata": {
  "kernelspec": {
   "display_name": "Python 3 (ipykernel)",
   "language": "python",
   "name": "python3"
  },
  "language_info": {
   "codemirror_mode": {
    "name": "ipython",
    "version": 3
   },
   "file_extension": ".py",
   "mimetype": "text/x-python",
   "name": "python",
   "nbconvert_exporter": "python",
   "pygments_lexer": "ipython3",
   "version": "3.12.11"
  }
 },
 "nbformat": 4,
 "nbformat_minor": 5
}
