{
 "cells": [
  {
   "cell_type": "markdown",
   "id": "e70eaac7-39c4-4816-8006-00deb66105fc",
   "metadata": {},
   "source": [
    "## Running on a cloud"
   ]
  },
  {
   "cell_type": "markdown",
   "id": "4638089c-2f78-4e23-9c0d-704dd4cce065",
   "metadata": {},
   "source": [
    "Remember this?\n",
    "\n",
    "<img src=\"img/remote-computer.svg\" style=\"width: 1000px; max-width: 100%;\">"
   ]
  },
  {
   "cell_type": "markdown",
   "id": "96165ff1-fc80-421f-bf4c-84c25797ad91",
   "metadata": {},
   "source": [
    "<br><br><br>"
   ]
  },
  {
   "cell_type": "markdown",
   "id": "965fc1be-8535-432e-a591-6b94284424cc",
   "metadata": {},
   "source": [
    "There are good reasons for wanting students to run the code **locally** on their own computers:\n",
    "* They will be working on a Clinic project all quarter. They need consistent access and the ability to save files and be able to find them again.\n",
    "\n",
    "There are good reasons for wanting students to run the code **remotely**:\n",
    "* It's a one-time session and you don't want to lose any time trying to install software, even if it is only git and Docker."
   ]
  },
  {
   "cell_type": "markdown",
   "id": "df7d42eb-07b8-419b-9aed-f174cb256e67",
   "metadata": {},
   "source": [
    "<br><br><br>"
   ]
  },
  {
   "cell_type": "markdown",
   "id": "a8f7d9c3-3ded-4633-8e3c-5ecce99a5e4b",
   "metadata": {},
   "source": [
    "For **local** installations, we recommend Docker because it's least sensitive to weird misconfigurations.\n",
    "\n",
    "For **remote** installations, there are some options.\n",
    "* **Binder:** [jpivarski-talks/2025-09-11-jupyter-for-teaching-binder](https://github.com/jpivarski-talks/2025-09-11-jupyter-for-teaching-binder)\n",
    "* **Codespaces:** [jpivarski-talks/2025-09-11-jupyter-for-teaching-codespaces](https://github.com/jpivarski-talks/2025-09-11-jupyter-for-teaching-codespaces)\n",
    "* **JupyterLite:** [jpivarski-talks/2025-09-11-jupyter-for-teaching-jupyterlite](https://github.com/jpivarski-talks/2025-09-11-jupyter-for-teaching-jupyterlite) (not really remote, but acts like it)\n",
    "\n",
    "You might have heard of JupyterHub, but setting up and maintaining your own JupyterHub server is not easy and not recommended. (The least painful methods are [The Littlest JupyterHub](https://tljh.jupyter.org/) and [Nebari](https://www.nebari.dev/).)"
   ]
  },
  {
   "cell_type": "markdown",
   "id": "9957fc73-4d29-43a9-9695-a18626871335",
   "metadata": {},
   "source": [
    "<br><br><br>"
   ]
  },
  {
   "cell_type": "markdown",
   "id": "ce5883f2-7637-407f-a78a-80a50a51cdab",
   "metadata": {},
   "source": [
    "## JupyterBooks"
   ]
  },
  {
   "cell_type": "markdown",
   "id": "d8aa88c4-4f6e-42c8-bae6-2ded9c067925",
   "metadata": {},
   "source": [
    "On a related topic, [JupyterBook](https://jupyterbook.org/) is a way to write online textbooks from a collection of Jupyter notebooks. It consists of a GitHub repository full of notebooks connected by a table of contents.\n",
    "\n",
    "We're writing such a book and invite you to contribute to it:\n",
    "* **The book:** https://ds1.datascience.uchicago.edu/\n",
    "* **GitHub:** https://github.com/uchicago-dsi/textbook-datascience-1\n",
    "* **Table of contents:** [uchicago-dsi/textbook-datascience-1/blob/main/textbook/_toc.yml](https://github.com/uchicago-dsi/textbook-datascience-1/blob/main/textbook/_toc.yml)\n",
    "\n",
    "Our textbook has a Dockerfile and a Makefile like this repository: `git clone` it and `make serve-book` to render it **locally** in a Docker container, edit the notebooks, and `git checkout -n new-branch ; git push` to open a pull request with proposed changes."
   ]
  },
  {
   "cell_type": "markdown",
   "id": "28e72fca-81f8-4a85-a4ad-ed4873eb749a",
   "metadata": {},
   "source": [
    "<br><br><br>"
   ]
  },
  {
   "cell_type": "markdown",
   "id": "a2433e14-c1f0-4a1c-9dc3-32b5fbc6ec48",
   "metadata": {},
   "source": [
    "JupyterBook has an experimental feature to [execute code online](https://jupyterbook.org/en/stable/interactive/thebe.html), like a hosted Jupyter server. The existence of this feature muddies the water—is JupyterBook a static website or a dynamic notebook?\n",
    "\n",
    "Primarily, JupyterBook is a static website. The ability to modify and execute code is an experimental add-on that relies on Binder to function, and we already have services like Binder. The unique thing that JupyterBook adds is the ability to collect many notebooks into a larger text."
   ]
  }
 ],
 "metadata": {
  "kernelspec": {
   "display_name": "Python 3 (ipykernel)",
   "language": "python",
   "name": "python3"
  },
  "language_info": {
   "codemirror_mode": {
    "name": "ipython",
    "version": 3
   },
   "file_extension": ".py",
   "mimetype": "text/x-python",
   "name": "python",
   "nbconvert_exporter": "python",
   "pygments_lexer": "ipython3",
   "version": "3.12.11"
  }
 },
 "nbformat": 4,
 "nbformat_minor": 5
}
